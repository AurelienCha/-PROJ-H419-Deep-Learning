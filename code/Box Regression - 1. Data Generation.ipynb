{
 "cells": [
  {
   "cell_type": "markdown",
   "id": "99c52ff4",
   "metadata": {},
   "source": [
    "# Box Regression - 1. Data Generation\n",
    "\n",
    "### Table of Contents\n",
    "\n",
    "* [Dataset](#datasetgeneration)\n",
    "    * [Librairies](#librairies)\n",
    "    * [Parameters](#parameters)\n",
    "    * [Folder Structure](#folderstructure)\n",
    "    * [Data Generation](#datageneration)\n",
    "        * [Visualization](#visualization)\n",
    "        * [Random Box](#randombox)\n",
    "        * [Image Creation](#creation)\n",
    "        * [Dataset Creation](#dataset)\n",
    "    * [Main](#main)"
   ]
  },
  {
   "cell_type": "markdown",
   "id": "ca61f32d",
   "metadata": {},
   "source": [
    "**Work inspired by** ***Sanjeev Tripathi*** : https://github.com/sanjeev309/synthetic_bbox_regression_db_tool\n",
    "## Dataset <a class=\"anchor\" id=\"datasetgeneration\"></a>"
   ]
  },
  {
   "cell_type": "markdown",
   "id": "4c523c52",
   "metadata": {},
   "source": [
    "### Libraries  <a class=\"anchor\" id=\"librairies\"></a>"
   ]
  },
  {
   "cell_type": "code",
   "execution_count": 1,
   "id": "b74d4473",
   "metadata": {},
   "outputs": [],
   "source": [
    "import numpy as np\n",
    "from tqdm import tqdm\n",
    "import random\n",
    "import shutil\n",
    "import cv2\n",
    "import sys\n",
    "import os"
   ]
  },
  {
   "cell_type": "markdown",
   "id": "e65a91cf",
   "metadata": {},
   "source": [
    "### Parameters  <a class=\"anchor\" id=\"parameters\"></a>\n",
    "\n",
    "Some parameters to generate data :\n",
    "- **SEED** : A seed to reproduce the data (dataset generated with seed = 52050)\n",
    "- **PATH** : Directory of the project (storing dataset)\n",
    "- **IMAGE_DIMENSION** : Dimension of the image generated (squarred images)\n",
    "- **TOTAL_IMAGES** : Total number of image generated\n",
    "- **TRAIN_VALID_TEST** : Tuple to indicate the repartition of data\n",
    "- **CREATE_DATA** :  Boolean to indicate if the data must created\n",
    "- **SAVE_IMAGE** :  Boolean to indicate if the data must be saved\n",
    "- **VISUALIZATIONE** :  Boolean to indicate if the data must be shown at generation\n",
    "- **AUTO_VISU** : Boolean to indicate if the visualization is in real time (if False, need to press key to generate next image)\n",
    "- **DEBUG** : Boolean to indicate if additionnal print are needed (generally for debug purpose)"
   ]
  },
  {
   "cell_type": "code",
   "execution_count": 13,
   "id": "09f0ad49",
   "metadata": {},
   "outputs": [],
   "source": [
    "SEED = 52050\n",
    "\n",
    "PATH = \"D:/Aurelien/Documents/Aurelien/University/Master 1 (2021-2022)/MA1 - Q2/Projets/Box Regression\"\n",
    "os.chdir(PATH)\n",
    "\n",
    "IMAGE_DIMENSION = 128\n",
    "TOTAL_IMAGES = 10000\n",
    "TRAIN_VALID_TEST = (8, 1, 1)\n",
    "\n",
    "CREATE_DATA = True\n",
    "SAVE_IMAGE = True\n",
    "VISUALIZATION = True\n",
    "AUTO_VISU = True\n",
    "DEBUG = True\n",
    "\n",
    "np.random.seed(SEED)"
   ]
  },
  {
   "cell_type": "markdown",
   "id": "efa3e6e9",
   "metadata": {},
   "source": [
    "### Folder Structure  <a class=\"anchor\" id=\"folderstructure\"></a>\n",
    "\n",
    "Recreates folders to store the dataset"
   ]
  },
  {
   "cell_type": "code",
   "execution_count": 4,
   "id": "126a10a5",
   "metadata": {},
   "outputs": [
    {
     "name": "stderr",
     "output_type": "stream",
     "text": [
      "Error deleting directory\n"
     ]
    }
   ],
   "source": [
    "def create_folder(folder):\n",
    "    try:\n",
    "        os.makedirs(folder)\n",
    "    except:\n",
    "        print('Already existing folder', file=sys.stderr)\n",
    "        \n",
    "if CREATE_DATA:\n",
    "    # Create Folder (--force replacement)\n",
    "    try:\n",
    "        shutil.rmtree('db')\n",
    "    except:\n",
    "        print('Error deleting directory', file=sys.stderr)\n",
    "    create_folder('db')\n",
    "    create_folder('db/train')\n",
    "    create_folder('db/valid')\n",
    "    create_folder('db/test')"
   ]
  },
  {
   "cell_type": "markdown",
   "id": "1c96d40c",
   "metadata": {},
   "source": [
    "### Data Generation  <a class=\"anchor\" id=\"datageneration\"></a>"
   ]
  },
  {
   "cell_type": "markdown",
   "id": "1ee1180c",
   "metadata": {},
   "source": [
    "#### Visualization  <a class=\"anchor\" id=\"visualization\"></a>\n",
    "\n",
    "View images as they are generated."
   ]
  },
  {
   "cell_type": "code",
   "execution_count": 6,
   "id": "e8b7278e",
   "metadata": {},
   "outputs": [],
   "source": [
    "def visualize_on_spot(image, auto = AUTO_VISU, ms_timing = 10):\n",
    "    # Visualization of data on the spot\n",
    "    winname = \"Visualization of data\"\n",
    "    cv2.imshow(winname, image)\n",
    "    \n",
    "    # If not auto, need to press key to go to next data\n",
    "    if not auto:\n",
    "        ms_timing = -1    \n",
    "    cv2.waitKey(ms_timing)"
   ]
  },
  {
   "cell_type": "markdown",
   "id": "0f39f37c",
   "metadata": {},
   "source": [
    "#### Random box  <a class=\"anchor\" id=\"randombox\"></a>\n",
    "\n",
    "Generate a box of random size inside the image and return the upper left corner, width and height."
   ]
  },
  {
   "cell_type": "code",
   "execution_count": 1,
   "id": "7dbdec15",
   "metadata": {},
   "outputs": [],
   "source": [
    "def random_box(x_size, y_size):\n",
    "    # Return a random box inside the image of size (x_size, y_size)\n",
    "    w = np.random.randint(0.1*x_size, x_size + 1)\n",
    "    h = np.random.randint(0.1*x_size, y_size + 1)\n",
    "    x = np.random.randint(0, x_size - w + 1)\n",
    "    y = np.random.randint(0, y_size - h + 1)\n",
    "    \n",
    "    return [x, y, w, h]"
   ]
  },
  {
   "cell_type": "markdown",
   "id": "a77ad7f9",
   "metadata": {},
   "source": [
    "#### Image Creation <a class=\"anchor\" id=\"creation\"></a>"
   ]
  },
  {
   "cell_type": "markdown",
   "id": "c2fbcc47",
   "metadata": {},
   "source": [
    "Noise function is currently not used (optionnal)"
   ]
  },
  {
   "cell_type": "code",
   "execution_count": 7,
   "id": "1684b545",
   "metadata": {},
   "outputs": [],
   "source": [
    "def add_noise(image):\n",
    "    threshold = np.random.random()\n",
    "    for r in range(len(image[0])):\n",
    "        for c in range(len(image[1])):\n",
    "            if  np.random.random() > threshold:\n",
    "                image[r][c] = 255 * np.random.random()\n",
    "    return image"
   ]
  },
  {
   "cell_type": "markdown",
   "id": "77718381",
   "metadata": {},
   "source": [
    "Create and store a binary jpg image with labels (=coordinates of the box)"
   ]
  },
  {
   "cell_type": "code",
   "execution_count": 8,
   "id": "2db42cbf",
   "metadata": {},
   "outputs": [],
   "source": [
    "def create_data(x_size, y_size, category , idx, create=False):\n",
    "    # Create black images with random white box (black = 0, white = 255, thickness=-1 for complete filling )\n",
    "    x, y, w, h = random_box(x_size, y_size)\n",
    "    image = np.zeros([x_size, y_size])\n",
    "    cv2.rectangle(image, (x, y), (x + w, y + h), 255, -1)\n",
    "    #image = add_noise(image)\n",
    "    \n",
    "    # Visualization & Storage of images for further use\n",
    "    if create:\n",
    "        if VISUALIZATION:\n",
    "            visualize_on_spot(image)\n",
    "        if SAVE_IMAGE:\n",
    "            cv2.imwrite(\"db/\" + category + \"/\" + category + \"_\" + str(idx) + \".jpg\", image)\n",
    "        dbg_len = len(str(IMAGE_DIMENSION))\n",
    "        dbg_nbr = len(str(TOTAL_IMAGES))\n",
    "        with open(\"db/\" + category + \"/.debug_\" + category + \"_data.txt\", 'a') as f:\n",
    "            print(f\"Image {idx:>{dbg_nbr}}: ({x:>{dbg_len}}, {y:>{dbg_len}})\" \n",
    "                  f\" -> ({x + w:>{dbg_len}}, {y + h:>{dbg_len}})\", file=f)\n",
    "    \n",
    "    return image, x, y, w, h"
   ]
  },
  {
   "cell_type": "markdown",
   "id": "b99ef014",
   "metadata": {},
   "source": [
    "#### Dataset Creation <a class=\"anchor\" id=\"dataset\"></a>\n",
    "\n",
    "Create and store a dataset with labels (= coordinates of the upper left and lower right corner)"
   ]
  },
  {
   "cell_type": "code",
   "execution_count": 9,
   "id": "156c75ca",
   "metadata": {},
   "outputs": [],
   "source": [
    "def generate_dataset(category, nbr_data):\n",
    "    \n",
    "    if DEBUG:\n",
    "        dbg_len = len(str(IMAGE_DIMENSION))\n",
    "        dbg_nbr = len(str(nbr_data))\n",
    "    \n",
    "    # Initialization of data (grayscale images) & labels (x,y,w,h) arrays\n",
    "    data = np.empty([0, IMAGE_DIMENSION, IMAGE_DIMENSION, 1], dtype=np.int64)\n",
    "    target = np.empty([0, 4], dtype=np.int64)\n",
    "\n",
    "    # Generation of data & labels\n",
    "    with open(\"db/\" + category + \"/.debug_\" + category + \"_data.txt\", 'a') as f:\n",
    "            print(f\"# Data details of type : {category}\"\n",
    "                  f\"# Bounding Box : (upper left corner) -> (lower right corner) : (x1, y2) -> (x2, y2)\", file=f)\n",
    "    for i in tqdm(range(nbr_data), desc=\"Create \" + category + \" data...\"):\n",
    "        im, x, y, w, h = create_data(IMAGE_DIMENSION, IMAGE_DIMENSION, category, i, CREATE_DATA)\n",
    "        data = np.vstack((data, [np.expand_dims(im, axis=2)]))\n",
    "        target = np.vstack((target, [x, y, x + w, y + h]))\n",
    "    \n",
    "    # Normalization\n",
    "    target = target / IMAGE_DIMENSION\n",
    "    data = data / 255\n",
    "    \n",
    "    # Save & close visualization\n",
    "    np.save(\"db/\" + category + \"/.\" + category + \"_data\", data)\n",
    "    np.save(\"db/\" + category + \"/.\" + category + \"_target\", target)\n",
    "    cv2.destroyAllWindows()"
   ]
  },
  {
   "cell_type": "markdown",
   "id": "2400598e",
   "metadata": {},
   "source": [
    "### Main <a class=\"anchor\" id=\"main\"></a>\n",
    "\n",
    "Main loop to generate the whole dataset."
   ]
  },
  {
   "cell_type": "code",
   "execution_count": 10,
   "id": "931ebc33",
   "metadata": {},
   "outputs": [
    {
     "name": "stderr",
     "output_type": "stream",
     "text": [
      "Create train data...: 100%|████████████████████████████████████████████████████████| 8000/8000 [35:21<00:00,  3.77it/s]\n",
      "Create valid data...: 100%|████████████████████████████████████████████████████████| 1000/1000 [01:36<00:00, 10.34it/s]\n",
      "Create test data...: 100%|█████████████████████████████████████████████████████████| 1000/1000 [01:12<00:00, 13.89it/s]\n"
     ]
    }
   ],
   "source": [
    "if CREATE_DATA:\n",
    "    train_ratio = TRAIN_VALID_TEST[0] / sum(TRAIN_VALID_TEST)\n",
    "    valid_ratio = TRAIN_VALID_TEST[1] / sum(TRAIN_VALID_TEST)\n",
    "    test_ratio = TRAIN_VALID_TEST[2] / sum(TRAIN_VALID_TEST)\n",
    "    \n",
    "    generate_dataset(\"train\", int(TOTAL_IMAGES * train_ratio))\n",
    "    generate_dataset(\"valid\", int(TOTAL_IMAGES * valid_ratio))\n",
    "    generate_dataset(\"test\", int(TOTAL_IMAGES * test_ratio))"
   ]
  }
 ],
 "metadata": {
  "kernelspec": {
   "display_name": "Python 3 (ipykernel)",
   "language": "python",
   "name": "python3"
  },
  "language_info": {
   "codemirror_mode": {
    "name": "ipython",
    "version": 3
   },
   "file_extension": ".py",
   "mimetype": "text/x-python",
   "name": "python",
   "nbconvert_exporter": "python",
   "pygments_lexer": "ipython3",
   "version": "3.7.11"
  }
 },
 "nbformat": 4,
 "nbformat_minor": 5
}
